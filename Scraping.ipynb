{
 "cells": [
  {
   "cell_type": "code",
   "execution_count": 10,
   "metadata": {},
   "outputs": [
    {
     "name": "stdout",
     "output_type": "stream",
     "text": [
      "1\n"
     ]
    }
   ],
   "source": [
    " \n",
    "import lyricsgenius as genius\n",
    "import csv\n",
    "\n",
    "\n",
    "# Insert client ID\n",
    "api = genius.Genius('_AWedxVQHP7zADAc_Gj54SvLUPFOFWrip4_-4YPzpb82pTLSg3cZ8xxPLZRl5Xlw')\n",
    "\n",
    "with open('Rap_Test1.csv', encoding='mac_roman') as csv_file:\n",
    "    csv_reader = csv.reader(csv_file, delimiter=',')\n",
    "    line_count = 0\n",
    "    for row in csv_reader:\n",
    "        if line_count == 0:\n",
    "            line_count += 1\n",
    "        else:\n",
    "            item_year = row[0]\n",
    "            item_artist = row[1]\n",
    "            item_song = row[2]\n",
    "            # print(f'\\t{row[0]}\\t{row[1]}\\t{row[2]}')\n",
    "            song = api.search_song(item_song,item_artist)\n",
    "            filename = item_song.replace(\"/\",\"_\") + \"|\" + item_artist.replace(\"/\",\"_\")\n",
    "            if song is not None:\n",
    "                song.save_lyrics(filename='lyrics/txt/'+filename+'.json',format_='txt')\n",
    "                song.save_lyrics(filename='lyrics/json/'+filename+'.json',format_='json')\n",
    "\n",
    "            line_count += 1\n",
    "\n",
    "    print(line_count)"
   ]
  },
  {
   "cell_type": "code",
   "execution_count": 35,
   "metadata": {},
   "outputs": [],
   "source": [
    "import requests\n",
    "\n",
    "def request_song_info(song_title, artist_name):\n",
    "    base_url = 'https://api.genius.com'\n",
    "    headers = {'Authorization': 'Bearer ' + 'CQ4Ni_6zhB_MBUMbHmxQ6OlFJjwrZqNW1hhuH7SGS1rxP-CM8StFqZ9en4N0Iaap'}\n",
    "    search_url = base_url + '/search'\n",
    "    data = {'q': song_title + ' ' + artist_name}\n",
    "    response = requests.get(search_url, data=data, headers=headers)\n",
    "\n",
    "    return response"
   ]
  },
  {
   "cell_type": "code",
   "execution_count": 36,
   "metadata": {},
   "outputs": [
    {
     "name": "stdout",
     "output_type": "stream",
     "text": [
      "<Response [200]>\n"
     ]
    }
   ],
   "source": [
    "response = request_song_info('dkr','booba')\n",
    "print(response)"
   ]
  },
  {
   "cell_type": "code",
   "execution_count": 38,
   "metadata": {},
   "outputs": [],
   "source": [
    "    song_title = 'dkr'\n",
    "    artist_name = 'booba'\n",
    "    response = request_song_info(song_title, artist_name)\n",
    "    json = response.json()\n",
    "    remote_song_info = None\n",
    "\n",
    "    for hit in json['response']['hits']:\n",
    "        if artist_name.lower() in hit['result']['primary_artist']['name'].lower():\n",
    "            remote_song_info = hit\n",
    "            break"
   ]
  },
  {
   "cell_type": "code",
   "execution_count": 41,
   "metadata": {},
   "outputs": [
    {
     "data": {
      "text/plain": [
       "\"\\n\\n[Produit par Jack Flaag]\\n\\n[Couplet 1]\\nC'est pas le quartier qui me quitte\\nC'est moi j'quitte le quartier\\nJ'ai maillé, maillé, maillé, déjà\\nJ'ai pas bâillé, bâillé, fait des dégâts\\nTyson, Gris Bordeaux, Bombardier\\nJ'vais te casser le dos, pas te marier\\nMe tiens pas la main, ça va parler\\nJ'ai déjà l'Balmain baissé sur le palier\\nComme Audrey Tcheuméo, j'suis médaillé\\nVámonos, négro, allez dalé\\nLa cuenta fut très très salée\\nTa halal j'vais la faire chialer\\n\\n[Refrain]\\nAfrica, tu n'as pas d'âge\\nIls veulent te marier, marier, marier\\nTon nom d'famille sera prise d'otage\\nÀ quoi sert d'être lion en cage ?\\nEnvoie le hasch', les millions cash\\nFaut mailler, mailler, mailler\\nMadame la juge, élan de rage\\nJ'ai mitraillé comme un sauvage\\n\\n[Couplet 2]\\nC'est pas le quartier qui me quitte\\nC'est moi j'quitte le quartier\\nJ'ai maillé, maillé, maillé, déjà\\nJ'ai bataillé-taillé, fait des dégâts\\nJe n'entends pas toutes ces hyènes\\nJ'suis devant un plat de tiep bou dienn\\nMême noir j'pourrais rougir de haine\\nEsclave n'a pas d'remise de peine\\nCeux qui n'veulent pas faire de business\\nJe vous en prie : descendez là\\nLe cours de ta schneck est en baisse\\nSers-moi un shot de Mandela\\n\\n[Refrain]\\nAfrica, tu n'as pas d'âge\\nIls veulent te marier, marier, marier\\nTon nom d'famille sera prise d'otage\\nÀ quoi sert d'être lion en cage ?\\nEnvoie le hasch', les millions cash\\nFaut mailler, mailler, mailler\\nMadame la juge, élan de rage\\nJ'ai mitraillé comme un sauvage\\n\\n[Couplet 3]\\nLion de la Teranga, y'a R j'ai fait c'qu'il fallait, fallait\\nSénégal, DKR, Génération Boul Falé, Falé\\nIl aimait l'Afrique mais la mula l'a poussé à tailler, tailler\\nPasse-moi les massa, mamakossa, F.L.O, Mara Salvatrucha\\nNégro, n'a pas vraiment de chatte\\nLe boule est plat, tu ne fais pas vraiment de squats\\nPour toi j'ai formule adéquate : uppercut gauche droite\\nTyson, Gris Bordeaux, Bombardier, j'vais te casser le dos\\nIl l'a branchée, a trop accéléré : elle a gâté le kho\\nPour mieux roue-arriérer des mères, j'ai changé le pot\\nJe suis pirate donc loup de mer, je peux te montrer les crocs\\n\\n\""
      ]
     },
     "execution_count": 41,
     "metadata": {},
     "output_type": "execute_result"
    }
   ],
   "source": [
    "if remote_song_info:\n",
    "    song_url = remote_song_info['result']['url']\n",
    "    \n",
    "from bs4 import BeautifulSoup\n",
    "\n",
    "def scrap_song_url(url):\n",
    "    page = requests.get(url)\n",
    "    html = BeautifulSoup(page.text, 'html.parser')\n",
    "    lyrics = html.find('div', class_='lyrics').get_text()\n",
    "\n",
    "    return lyrics\n",
    "\n"
   ]
  },
  {
   "cell_type": "code",
   "execution_count": 42,
   "metadata": {},
   "outputs": [],
   "source": [
    "x = scrap_song_url(song_url)"
   ]
  },
  {
   "cell_type": "code",
   "execution_count": 43,
   "metadata": {},
   "outputs": [
    {
     "name": "stdout",
     "output_type": "stream",
     "text": [
      "\n",
      "\n",
      "[Produit par Jack Flaag]\n",
      "\n",
      "[Couplet 1]\n",
      "C'est pas le quartier qui me quitte\n",
      "C'est moi j'quitte le quartier\n",
      "J'ai maillé, maillé, maillé, déjà\n",
      "J'ai pas bâillé, bâillé, fait des dégâts\n",
      "Tyson, Gris Bordeaux, Bombardier\n",
      "J'vais te casser le dos, pas te marier\n",
      "Me tiens pas la main, ça va parler\n",
      "J'ai déjà l'Balmain baissé sur le palier\n",
      "Comme Audrey Tcheuméo, j'suis médaillé\n",
      "Vámonos, négro, allez dalé\n",
      "La cuenta fut très très salée\n",
      "Ta halal j'vais la faire chialer\n",
      "\n",
      "[Refrain]\n",
      "Africa, tu n'as pas d'âge\n",
      "Ils veulent te marier, marier, marier\n",
      "Ton nom d'famille sera prise d'otage\n",
      "À quoi sert d'être lion en cage ?\n",
      "Envoie le hasch', les millions cash\n",
      "Faut mailler, mailler, mailler\n",
      "Madame la juge, élan de rage\n",
      "J'ai mitraillé comme un sauvage\n",
      "\n",
      "[Couplet 2]\n",
      "C'est pas le quartier qui me quitte\n",
      "C'est moi j'quitte le quartier\n",
      "J'ai maillé, maillé, maillé, déjà\n",
      "J'ai bataillé-taillé, fait des dégâts\n",
      "Je n'entends pas toutes ces hyènes\n",
      "J'suis devant un plat de tiep bou dienn\n",
      "Même noir j'pourrais rougir de haine\n",
      "Esclave n'a pas d'remise de peine\n",
      "Ceux qui n'veulent pas faire de business\n",
      "Je vous en prie : descendez là\n",
      "Le cours de ta schneck est en baisse\n",
      "Sers-moi un shot de Mandela\n",
      "\n",
      "[Refrain]\n",
      "Africa, tu n'as pas d'âge\n",
      "Ils veulent te marier, marier, marier\n",
      "Ton nom d'famille sera prise d'otage\n",
      "À quoi sert d'être lion en cage ?\n",
      "Envoie le hasch', les millions cash\n",
      "Faut mailler, mailler, mailler\n",
      "Madame la juge, élan de rage\n",
      "J'ai mitraillé comme un sauvage\n",
      "\n",
      "[Couplet 3]\n",
      "Lion de la Teranga, y'a R j'ai fait c'qu'il fallait, fallait\n",
      "Sénégal, DKR, Génération Boul Falé, Falé\n",
      "Il aimait l'Afrique mais la mula l'a poussé à tailler, tailler\n",
      "Passe-moi les massa, mamakossa, F.L.O, Mara Salvatrucha\n",
      "Négro, n'a pas vraiment de chatte\n",
      "Le boule est plat, tu ne fais pas vraiment de squats\n",
      "Pour toi j'ai formule adéquate : uppercut gauche droite\n",
      "Tyson, Gris Bordeaux, Bombardier, j'vais te casser le dos\n",
      "Il l'a branchée, a trop accéléré : elle a gâté le kho\n",
      "Pour mieux roue-arriérer des mères, j'ai changé le pot\n",
      "Je suis pirate donc loup de mer, je peux te montrer les crocs\n",
      "\n",
      "\n"
     ]
    }
   ],
   "source": [
    "print(x)"
   ]
  }
 ],
 "metadata": {
  "kernelspec": {
   "display_name": "Python 3",
   "language": "python",
   "name": "python3"
  },
  "language_info": {
   "codemirror_mode": {
    "name": "ipython",
    "version": 3
   },
   "file_extension": ".py",
   "mimetype": "text/x-python",
   "name": "python",
   "nbconvert_exporter": "python",
   "pygments_lexer": "ipython3",
   "version": "3.7.4"
  }
 },
 "nbformat": 4,
 "nbformat_minor": 2
}
